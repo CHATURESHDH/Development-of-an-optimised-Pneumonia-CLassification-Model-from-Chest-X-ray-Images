{
 "cells": [
  {
   "cell_type": "markdown",
   "id": "77fe4058",
   "metadata": {},
   "source": [
    "# Import statements"
   ]
  },
  {
   "cell_type": "code",
   "execution_count": 1,
   "id": "832bf72a",
   "metadata": {},
   "outputs": [],
   "source": [
    "# Import Dependencies\n",
    "import numpy as np\n",
    "import pandas as pd\n",
    "import seaborn as sns\n",
    "import matplotlib.pyplot as plt\n",
    "from sklearn.model_selection import train_test_split\n",
    "%matplotlib inline\n",
    "from sklearn.feature_selection import SelectKBest\n",
    "from sklearn.feature_selection import mutual_info_classif\n",
    "from sklearn.ensemble import RandomForestClassifier\n",
    "from sklearn.feature_selection import RFE\n",
    "from sklearn.metrics import roc_auc_score\n",
    "from sklearn.feature_selection import SelectFromModel\n",
    "from sklearn.linear_model import Lasso, LogisticRegression\n",
    "from sklearn.preprocessing import StandardScaler\n",
    "from sklearn.decomposition import PCA \n",
    "from sklearn.svm import LinearSVC\n",
    "from sklearn.datasets import load_iris\n",
    "from sklearn.feature_selection import SelectFromModel\n",
    "from sklearn.feature_selection import mutual_info_classif as MIC\n",
    "from sklearn.feature_selection import mutual_info_classif, mutual_info_regression\n",
    "from sklearn.feature_selection import SelectKBest, SelectPercentile\n",
    "from sklearn.feature_selection import SequentialFeatureSelector\n",
    "from sklearn.neighbors import KNeighborsClassifier\n",
    "from sklearn.linear_model import LogisticRegression\n",
    "from sklearn.ensemble import RandomForestClassifier\n",
    "from sklearn.svm import SVC\n",
    "from sklearn.metrics import f1_score\n",
    "from sklearn.model_selection import cross_validate\n",
    "from sklearn.tree import DecisionTreeClassifier \n",
    "from sklearn.linear_model import Perceptron\n",
    "from sklearn.model_selection import RandomizedSearchCV\n",
    "from sklearn.model_selection import GridSearchCV\n",
    "# import skopt\n",
    "# from hyperopt import hp\n",
    "import pickle\n",
    "from sklearn.feature_selection import SelectKBest\n",
    "from sklearn.feature_selection import mutual_info_classif\n",
    "from sklearn.feature_selection import RFE\n",
    "import warnings\n",
    "from sklearn.metrics import precision_score\n",
    "from sklearn.metrics import confusion_matrix\n",
    "from sklearn.decomposition import PCA\n",
    "warnings.filterwarnings(\"ignore\")"
   ]
  },
  {
   "cell_type": "markdown",
   "id": "3e774b1f",
   "metadata": {},
   "source": [
    "# Result "
   ]
  },
  {
   "cell_type": "code",
   "execution_count": 2,
   "id": "75179d4a",
   "metadata": {},
   "outputs": [],
   "source": [
    "# After considering all five conventional classification models, we come to conclusion that Random forest is the best model."
   ]
  },
  {
   "cell_type": "markdown",
   "id": "a1ef93f6",
   "metadata": {},
   "source": [
    "## Load the model"
   ]
  },
  {
   "cell_type": "code",
   "execution_count": 3,
   "id": "f16e15f3",
   "metadata": {},
   "outputs": [],
   "source": [
    "RandomForest = pickle.load(open('base_model', 'rb'))"
   ]
  },
  {
   "cell_type": "markdown",
   "id": "c65041fb",
   "metadata": {},
   "source": [
    "# Loading the Dataset"
   ]
  },
  {
   "cell_type": "code",
   "execution_count": 4,
   "id": "6bc5a517",
   "metadata": {},
   "outputs": [
    {
     "data": {
      "text/plain": [
       "(5856, 94)"
      ]
     },
     "execution_count": 4,
     "metadata": {},
     "output_type": "execute_result"
    }
   ],
   "source": [
    "# Load Dataset\n",
    "df = pd.read_csv('final_dataset.csv')\n",
    "df.shape"
   ]
  },
  {
   "cell_type": "markdown",
   "id": "ba5feaf7",
   "metadata": {},
   "source": [
    "# Train Test Split"
   ]
  },
  {
   "cell_type": "code",
   "execution_count": 5,
   "id": "4a8b2e31",
   "metadata": {},
   "outputs": [
    {
     "data": {
      "text/plain": [
       "((4684, 93), (1172, 93))"
      ]
     },
     "execution_count": 5,
     "metadata": {},
     "output_type": "execute_result"
    }
   ],
   "source": [
    "X_train, X_test, y_train, y_test = train_test_split(\n",
    "    df.drop(labels=['Label'], axis=1),\n",
    "    df['Label'],\n",
    "    test_size=0.2,\n",
    "    random_state=23)\n",
    "\n",
    "X_train.shape, X_test.shape"
   ]
  },
  {
   "cell_type": "markdown",
   "id": "0d11425a",
   "metadata": {},
   "source": [
    "# Cross Validation"
   ]
  },
  {
   "cell_type": "code",
   "execution_count": 6,
   "id": "ba648692",
   "metadata": {},
   "outputs": [],
   "source": [
    "def cross_validation(model, _X, _y, _cv=5):\n",
    "      _scoring = ['f1']\n",
    "      results = cross_validate(estimator=model,\n",
    "                               X=_X,\n",
    "                               y=_y,\n",
    "                               cv=_cv,\n",
    "                               scoring=_scoring,\n",
    "                               return_train_score=True)\n",
    "      return results['test_f1'].mean()"
   ]
  },
  {
   "cell_type": "code",
   "execution_count": 7,
   "id": "0eae0040",
   "metadata": {},
   "outputs": [],
   "source": [
    "def get_result(model):\n",
    "    F1_score = []\n",
    "    for i in range(5,95,5):\n",
    "        test_dataframe = X_test.filter(items=model(i)) #filtering only required important features\n",
    "        F1_score.append(cross_validation(RandomForest,test_dataframe,y_test,5))\n",
    "    print(\"The highest F1_score is {} for {} features.\".format(max(F1_score),(5 * F1_score.index(max(F1_score)) + 5)))"
   ]
  },
  {
   "cell_type": "markdown",
   "id": "b3041448",
   "metadata": {},
   "source": [
    "# Evalution Parameters"
   ]
  },
  {
   "cell_type": "code",
   "execution_count": 8,
   "id": "d93bf9ad",
   "metadata": {},
   "outputs": [],
   "source": [
    "def Eval_par(train_DF,test_DF):\n",
    "    model = RandomForestClassifier(criterion = 'gini',max_depth = None,\n",
    "                                   max_features = None,max_leaf_nodes = None,\n",
    "                                   min_samples_leaf = 3,min_samples_split = 4,\n",
    "                                   min_weight_fraction_leaf = 0.0,n_estimators = 200)\n",
    "    model.fit(train_DF,y_train)\n",
    "    y_pred = model.predict(test_DF)\n",
    "    _confusion_matrix = confusion_matrix(y_test,y_pred)\n",
    "    \n",
    "    true_positive = _confusion_matrix[1][1]\n",
    "    true_negative = _confusion_matrix[0][0]\n",
    "    false_positive = _confusion_matrix[0][1]\n",
    "    false_negative = _confusion_matrix[1][0]\n",
    "\n",
    "    # Calculate precision\n",
    "    precision = true_positive / (true_positive + false_positive)\n",
    "\n",
    "    # Calculate recall\n",
    "    recall = true_positive / (true_positive + false_negative)\n",
    "\n",
    "    # Calculate accuracy\n",
    "    accuracy = (true_positive + true_negative) / (true_positive + true_negative + false_positive + false_negative)\n",
    "\n",
    "    print(\"Precision : \",precision)\n",
    "    print(\"Recall : \",recall)\n",
    "    print(\"Accuracy : \", accuracy)"
   ]
  },
  {
   "cell_type": "markdown",
   "id": "c9485653",
   "metadata": {},
   "source": [
    "# Correlation-based feature selection (CFS)"
   ]
  },
  {
   "cell_type": "code",
   "execution_count": 9,
   "id": "c5f342fb",
   "metadata": {},
   "outputs": [],
   "source": [
    "# X is your feature matrix, y is your target variable\n",
    "def CFS(features):\n",
    "    selector = SelectKBest(score_func=mutual_info_classif, k=features) # choose the number of features you want to keep\n",
    "    CFS = selector.fit_transform(X_train, y_train) # features are selected\n",
    "    colu = list(X_test.columns[selector.get_support()]) #generating name of columns consisting that feature \n",
    "    return colu"
   ]
  },
  {
   "cell_type": "code",
   "execution_count": 155,
   "id": "a04bb8b5",
   "metadata": {},
   "outputs": [
    {
     "name": "stdout",
     "output_type": "stream",
     "text": [
      "The highest F1_score is 0.9220485950410214 for 55 features.\n"
     ]
    }
   ],
   "source": [
    "get_result(CFS)"
   ]
  },
  {
   "cell_type": "code",
   "execution_count": 12,
   "id": "2108c422",
   "metadata": {},
   "outputs": [
    {
     "name": "stdout",
     "output_type": "stream",
     "text": [
      "Precision :  0.9279069767441861\n",
      "Recall :  0.9236111111111112\n",
      "Accuracy :  0.8907849829351536\n",
      "Specificity :  0.7987012987012987\n"
     ]
    }
   ],
   "source": [
    "train_dataframe = X_train.filter(items=CFS(55)) #filtering only required important features\n",
    "test_dataframe = X_test.filter(items=CFS(55)) #filtering only required important features\n",
    "\n",
    "Eval_par(train_dataframe,test_dataframe)"
   ]
  },
  {
   "cell_type": "markdown",
   "id": "28e3342d",
   "metadata": {},
   "source": [
    "# L1 regularization"
   ]
  },
  {
   "cell_type": "code",
   "execution_count": 13,
   "id": "81d0397e",
   "metadata": {},
   "outputs": [],
   "source": [
    "def L1_reg():\n",
    "    l1 = SelectFromModel(LogisticRegression(C=1, penalty='l1',solver='liblinear'))\n",
    "    l1.fit(X_train, y_train)\n",
    "    colu = list(X_train.columns[l1.get_support()])\n",
    "    return colu"
   ]
  },
  {
   "cell_type": "code",
   "execution_count": 20,
   "id": "f73bff0f",
   "metadata": {},
   "outputs": [
    {
     "name": "stdout",
     "output_type": "stream",
     "text": [
      "F1_Score is 0.9206455388654469 for 65 features\n"
     ]
    }
   ],
   "source": [
    "colu = L1_reg()\n",
    "train_dataframe = X_train.filter(items=colu) #filtering only required important features\n",
    "test_dataframe = X_test.filter(items=colu) #filtering only required important features\n",
    "print(\"F1_Score is {} for 65 features\".format(cross_validation(RandomForest, test_dataframe, y_test, _cv=5)))"
   ]
  },
  {
   "cell_type": "code",
   "execution_count": 163,
   "id": "40afbddc",
   "metadata": {},
   "outputs": [
    {
     "name": "stdout",
     "output_type": "stream",
     "text": [
      "Precision :  0.923963133640553\n",
      "Recall :  0.9282407407407407\n",
      "Accuracy :  0.8907849829351536\n",
      "Specificity :  0.7857142857142857\n"
     ]
    }
   ],
   "source": [
    "# F1_score = cross_validation(RandomForest,test_dataframe,y_test,5)\n",
    "Eval_par(train_dataframe,test_dataframe)"
   ]
  },
  {
   "cell_type": "markdown",
   "id": "e096cdff",
   "metadata": {},
   "source": [
    "# Recursive Feature Elimination (RFE)"
   ]
  },
  {
   "cell_type": "code",
   "execution_count": 156,
   "id": "fa46a762",
   "metadata": {},
   "outputs": [],
   "source": [
    "def RFE_sel(features):\n",
    "    sel = RFE(RandomForest, n_features_to_select = features)\n",
    "    sel.fit(X_train, y_train)\n",
    "    colu = list(X_test.columns[sel.get_support()])\n",
    "    return colu"
   ]
  },
  {
   "cell_type": "code",
   "execution_count": 157,
   "id": "7e94fda3",
   "metadata": {},
   "outputs": [
    {
     "name": "stderr",
     "output_type": "stream",
     "text": [
      "\n",
      "KeyboardInterrupt\n",
      "\n"
     ]
    }
   ],
   "source": [
    "get_result(RFE_sel)"
   ]
  },
  {
   "cell_type": "markdown",
   "id": "eca36b9c",
   "metadata": {
    "id": "eca36b9c"
   },
   "source": [
    "# Principal component analysis (PCA)"
   ]
  },
  {
   "cell_type": "code",
   "execution_count": 128,
   "id": "f72f26a3",
   "metadata": {
    "id": "f72f26a3",
    "outputId": "77d4c4e7-0e3a-4d5e-d5b0-0643e4c85088"
   },
   "outputs": [],
   "source": [
    "def PCA_sel(features, DataFrame):\n",
    "    pca_sel = PCA(n_components = features)\n",
    "    pct = pca_sel.fit_transform(DataFrame)\n",
    "    return pct"
   ]
  },
  {
   "cell_type": "code",
   "execution_count": 166,
   "id": "ee8db898",
   "metadata": {},
   "outputs": [
    {
     "name": "stdout",
     "output_type": "stream",
     "text": [
      "The highest F1_score is 0.9136775826109315 for 10 features.\n"
     ]
    }
   ],
   "source": [
    "get_result(PCA_sel)"
   ]
  },
  {
   "cell_type": "code",
   "execution_count": 165,
   "id": "78cba4b7",
   "metadata": {},
   "outputs": [
    {
     "name": "stdout",
     "output_type": "stream",
     "text": [
      "Precision :  0.9052987598647125\n",
      "Recall :  0.9293981481481481\n",
      "Accuracy :  0.8762798634812287\n",
      "Specificity :  0.7272727272727273\n"
     ]
    }
   ],
   "source": [
    "train_dataframe =  PCA_sel(20,X_train)#filtering only required important features\n",
    "test_dataframe = PCA_sel(20,X_test) #filtering only required important features\n",
    "Eval_par(train_dataframe,test_dataframe)"
   ]
  },
  {
   "cell_type": "code",
   "execution_count": null,
   "id": "97768fc2",
   "metadata": {},
   "outputs": [],
   "source": [
    "F1_score = []\n",
    "for i in range(5,95,5):\n",
    "    test_dataframe = PCA_sel(i,X_test) #filtering only required important features\n",
    "    F1_score.append(cross_validation(RandomForest,test_dataframe,y_test,5))\n",
    "\n",
    "print(\"The highest F1_score is {} for {} features.\".format(max(F1_score),(5 * F1_score.index(max(F1_score)) + 5)))"
   ]
  },
  {
   "cell_type": "markdown",
   "id": "e8b5ed3a",
   "metadata": {
    "id": "e8b5ed3a"
   },
   "source": [
    "# Random forest feature importance"
   ]
  },
  {
   "cell_type": "code",
   "execution_count": 141,
   "id": "381b3ff4",
   "metadata": {
    "id": "381b3ff4",
    "outputId": "bc25ef0b-3230-455a-ce2e-2c0094965890"
   },
   "outputs": [],
   "source": [
    "def rff():\n",
    "    rfc_ = SelectFromModel(RandomForest)\n",
    "    rfc_.fit(X_train, y_train)\n",
    "    colu =list(X_test.columns[rfc_.get_support()])\n",
    "    return colu"
   ]
  },
  {
   "cell_type": "code",
   "execution_count": 167,
   "id": "dfe16f1e",
   "metadata": {
    "scrolled": true
   },
   "outputs": [],
   "source": [
    "colu = rff()\n",
    "train_dataframe = X_train.filter(items = colu)\n",
    "test_dataframe = X_test.filter(items = colu)"
   ]
  },
  {
   "cell_type": "code",
   "execution_count": 144,
   "id": "130bd764",
   "metadata": {},
   "outputs": [
    {
     "data": {
      "text/plain": [
       "0.912603907266558"
      ]
     },
     "execution_count": 144,
     "metadata": {},
     "output_type": "execute_result"
    }
   ],
   "source": [
    "cross_validation(RandomForest,test_dataframe,y_test,5)"
   ]
  },
  {
   "cell_type": "code",
   "execution_count": 168,
   "id": "b173a5ff",
   "metadata": {},
   "outputs": [
    {
     "name": "stdout",
     "output_type": "stream",
     "text": [
      "Precision :  0.9143835616438356\n",
      "Recall :  0.9270833333333334\n",
      "Accuracy :  0.8822525597269625\n",
      "Specificity :  0.7564935064935064\n"
     ]
    }
   ],
   "source": [
    "Eval_par(train_dataframe,test_dataframe)"
   ]
  },
  {
   "cell_type": "markdown",
   "id": "6d5bfd92",
   "metadata": {
    "id": "6d5bfd92"
   },
   "source": [
    "# Mutual information"
   ]
  },
  {
   "cell_type": "code",
   "execution_count": 135,
   "id": "c88b0926",
   "metadata": {
    "id": "c88b0926"
   },
   "outputs": [],
   "source": [
    "mutual_info = mutual_info_classif(X_train, y_train)"
   ]
  },
  {
   "cell_type": "code",
   "execution_count": 136,
   "id": "82087d6f",
   "metadata": {},
   "outputs": [],
   "source": [
    "def mut_info(features):\n",
    "    k_best_features = SelectKBest(mutual_info_classif, k=features).fit(X_train, y_train)\n",
    "    colu =list(X_test.columns[k_best_features.get_support()])\n",
    "    return colu"
   ]
  },
  {
   "cell_type": "code",
   "execution_count": 105,
   "id": "1af1ca58",
   "metadata": {
    "id": "1af1ca58",
    "outputId": "2bb29130-30fc-4b2c-83ae-b9d99a77bfb7",
    "scrolled": true
   },
   "outputs": [],
   "source": [
    "# https://github.com/anujdutt9/Feature-Selection-for-Machine-Learning/blob/master/Filter%20Methods/Mutual-Information.ipynb"
   ]
  },
  {
   "cell_type": "code",
   "execution_count": 170,
   "id": "93fcc03d",
   "metadata": {},
   "outputs": [],
   "source": [
    "colu = mut_info(20)\n",
    "train_dataframe = X_train.filter(items = colu)\n",
    "test_dataframe = X_test.filter(items = colu)"
   ]
  },
  {
   "cell_type": "code",
   "execution_count": 137,
   "id": "b192f6fe",
   "metadata": {},
   "outputs": [
    {
     "name": "stdout",
     "output_type": "stream",
     "text": [
      "The highest F1_score is 0.9213092225135131 for 20 features.\n"
     ]
    }
   ],
   "source": [
    "get_result(mut_info)"
   ]
  },
  {
   "cell_type": "code",
   "execution_count": 171,
   "id": "605382b2",
   "metadata": {},
   "outputs": [
    {
     "name": "stdout",
     "output_type": "stream",
     "text": [
      "Precision :  0.9212050984936269\n",
      "Recall :  0.9201388888888888\n",
      "Accuracy :  0.8831058020477816\n",
      "Specificity :  0.7792207792207793\n"
     ]
    }
   ],
   "source": [
    "Eval_par(train_dataframe,test_dataframe)"
   ]
  },
  {
   "cell_type": "code",
   "execution_count": null,
   "id": "a6c73279",
   "metadata": {},
   "outputs": [],
   "source": [
    "# https://github.com/krishnadulal/Feature-Selection-in-Machine-Learning-using-Python-All-Code"
   ]
  },
  {
   "cell_type": "markdown",
   "id": "4c1c20b4",
   "metadata": {},
   "source": [
    "# Correlation-based Feature Selection gives the best Results"
   ]
  },
  {
   "cell_type": "markdown",
   "id": "ff80bb83",
   "metadata": {},
   "source": [
    "## Save and Load the best model from CFS Technique"
   ]
  },
  {
   "cell_type": "code",
   "execution_count": 13,
   "id": "d7654a09",
   "metadata": {},
   "outputs": [],
   "source": [
    "train_dataframe = X_train.filter(items=CFS(55)) #filtering only required important features\n",
    "test_dataframe = X_test.filter(items=CFS(55)) #filtering only required important features"
   ]
  },
  {
   "cell_type": "code",
   "execution_count": 12,
   "id": "0f8b7d46",
   "metadata": {},
   "outputs": [
    {
     "data": {
      "text/html": [
       "<style>#sk-container-id-1 {color: black;background-color: white;}#sk-container-id-1 pre{padding: 0;}#sk-container-id-1 div.sk-toggleable {background-color: white;}#sk-container-id-1 label.sk-toggleable__label {cursor: pointer;display: block;width: 100%;margin-bottom: 0;padding: 0.3em;box-sizing: border-box;text-align: center;}#sk-container-id-1 label.sk-toggleable__label-arrow:before {content: \"▸\";float: left;margin-right: 0.25em;color: #696969;}#sk-container-id-1 label.sk-toggleable__label-arrow:hover:before {color: black;}#sk-container-id-1 div.sk-estimator:hover label.sk-toggleable__label-arrow:before {color: black;}#sk-container-id-1 div.sk-toggleable__content {max-height: 0;max-width: 0;overflow: hidden;text-align: left;background-color: #f0f8ff;}#sk-container-id-1 div.sk-toggleable__content pre {margin: 0.2em;color: black;border-radius: 0.25em;background-color: #f0f8ff;}#sk-container-id-1 input.sk-toggleable__control:checked~div.sk-toggleable__content {max-height: 200px;max-width: 100%;overflow: auto;}#sk-container-id-1 input.sk-toggleable__control:checked~label.sk-toggleable__label-arrow:before {content: \"▾\";}#sk-container-id-1 div.sk-estimator input.sk-toggleable__control:checked~label.sk-toggleable__label {background-color: #d4ebff;}#sk-container-id-1 div.sk-label input.sk-toggleable__control:checked~label.sk-toggleable__label {background-color: #d4ebff;}#sk-container-id-1 input.sk-hidden--visually {border: 0;clip: rect(1px 1px 1px 1px);clip: rect(1px, 1px, 1px, 1px);height: 1px;margin: -1px;overflow: hidden;padding: 0;position: absolute;width: 1px;}#sk-container-id-1 div.sk-estimator {font-family: monospace;background-color: #f0f8ff;border: 1px dotted black;border-radius: 0.25em;box-sizing: border-box;margin-bottom: 0.5em;}#sk-container-id-1 div.sk-estimator:hover {background-color: #d4ebff;}#sk-container-id-1 div.sk-parallel-item::after {content: \"\";width: 100%;border-bottom: 1px solid gray;flex-grow: 1;}#sk-container-id-1 div.sk-label:hover label.sk-toggleable__label {background-color: #d4ebff;}#sk-container-id-1 div.sk-serial::before {content: \"\";position: absolute;border-left: 1px solid gray;box-sizing: border-box;top: 0;bottom: 0;left: 50%;z-index: 0;}#sk-container-id-1 div.sk-serial {display: flex;flex-direction: column;align-items: center;background-color: white;padding-right: 0.2em;padding-left: 0.2em;position: relative;}#sk-container-id-1 div.sk-item {position: relative;z-index: 1;}#sk-container-id-1 div.sk-parallel {display: flex;align-items: stretch;justify-content: center;background-color: white;position: relative;}#sk-container-id-1 div.sk-item::before, #sk-container-id-1 div.sk-parallel-item::before {content: \"\";position: absolute;border-left: 1px solid gray;box-sizing: border-box;top: 0;bottom: 0;left: 50%;z-index: -1;}#sk-container-id-1 div.sk-parallel-item {display: flex;flex-direction: column;z-index: 1;position: relative;background-color: white;}#sk-container-id-1 div.sk-parallel-item:first-child::after {align-self: flex-end;width: 50%;}#sk-container-id-1 div.sk-parallel-item:last-child::after {align-self: flex-start;width: 50%;}#sk-container-id-1 div.sk-parallel-item:only-child::after {width: 0;}#sk-container-id-1 div.sk-dashed-wrapped {border: 1px dashed gray;margin: 0 0.4em 0.5em 0.4em;box-sizing: border-box;padding-bottom: 0.4em;background-color: white;}#sk-container-id-1 div.sk-label label {font-family: monospace;font-weight: bold;display: inline-block;line-height: 1.2em;}#sk-container-id-1 div.sk-label-container {text-align: center;}#sk-container-id-1 div.sk-container {/* jupyter's `normalize.less` sets `[hidden] { display: none; }` but bootstrap.min.css set `[hidden] { display: none !important; }` so we also need the `!important` here to be able to override the default hidden behavior on the sphinx rendered scikit-learn.org. See: https://github.com/scikit-learn/scikit-learn/issues/21755 */display: inline-block !important;position: relative;}#sk-container-id-1 div.sk-text-repr-fallback {display: none;}</style><div id=\"sk-container-id-1\" class=\"sk-top-container\"><div class=\"sk-text-repr-fallback\"><pre>RandomForestClassifier(max_features=None, min_samples_leaf=3,\n",
       "                       min_samples_split=4, n_estimators=200)</pre><b>In a Jupyter environment, please rerun this cell to show the HTML representation or trust the notebook. <br />On GitHub, the HTML representation is unable to render, please try loading this page with nbviewer.org.</b></div><div class=\"sk-container\" hidden><div class=\"sk-item\"><div class=\"sk-estimator sk-toggleable\"><input class=\"sk-toggleable__control sk-hidden--visually\" id=\"sk-estimator-id-1\" type=\"checkbox\" checked><label for=\"sk-estimator-id-1\" class=\"sk-toggleable__label sk-toggleable__label-arrow\">RandomForestClassifier</label><div class=\"sk-toggleable__content\"><pre>RandomForestClassifier(max_features=None, min_samples_leaf=3,\n",
       "                       min_samples_split=4, n_estimators=200)</pre></div></div></div></div></div>"
      ],
      "text/plain": [
       "RandomForestClassifier(max_features=None, min_samples_leaf=3,\n",
       "                       min_samples_split=4, n_estimators=200)"
      ]
     },
     "execution_count": 12,
     "metadata": {},
     "output_type": "execute_result"
    }
   ],
   "source": [
    "best_model = RandomForestClassifier(criterion = 'gini',max_depth = None,\n",
    "                                   max_features = None,max_leaf_nodes = None,\n",
    "                                   min_samples_leaf = 3,min_samples_split = 4,\n",
    "                                   min_weight_fraction_leaf = 0.0,n_estimators = 200)\n",
    "best_model.fit(train_dataframe,y_train)"
   ]
  },
  {
   "cell_type": "code",
   "execution_count": 17,
   "id": "e6a3e623",
   "metadata": {},
   "outputs": [],
   "source": [
    "import pickle\n",
    "# create an iterator object with write permission - model.pkl\n",
    "with open('best_model', 'wb') as files:\n",
    "    pickle.dump(best_model, files)"
   ]
  },
  {
   "cell_type": "code",
   "execution_count": 21,
   "id": "7e9b4e14",
   "metadata": {},
   "outputs": [],
   "source": [
    "model_ = pickle.load(open('best_model', 'rb'))"
   ]
  },
  {
   "cell_type": "code",
   "execution_count": 22,
   "id": "0c6d15e1",
   "metadata": {},
   "outputs": [
    {
     "data": {
      "text/plain": [
       "0.8523890784982935"
      ]
     },
     "execution_count": 22,
     "metadata": {},
     "output_type": "execute_result"
    }
   ],
   "source": [
    "model_.score(test_dataframe,y_test)"
   ]
  },
  {
   "cell_type": "code",
   "execution_count": null,
   "id": "790aca00",
   "metadata": {},
   "outputs": [],
   "source": []
  }
 ],
 "metadata": {
  "colab": {
   "provenance": []
  },
  "kernelspec": {
   "display_name": "Python 3 (ipykernel)",
   "language": "python",
   "name": "python3"
  },
  "language_info": {
   "codemirror_mode": {
    "name": "ipython",
    "version": 3
   },
   "file_extension": ".py",
   "mimetype": "text/x-python",
   "name": "python",
   "nbconvert_exporter": "python",
   "pygments_lexer": "ipython3",
   "version": "3.10.4"
  }
 },
 "nbformat": 4,
 "nbformat_minor": 5
}
